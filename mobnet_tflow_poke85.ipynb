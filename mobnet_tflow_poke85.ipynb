{
  "nbformat": 4,
  "nbformat_minor": 0,
  "metadata": {
    "kernelspec": {
      "display_name": "Python 3",
      "language": "python",
      "name": "python3"
    },
    "language_info": {
      "codemirror_mode": {
        "name": "ipython",
        "version": 3
      },
      "file_extension": ".py",
      "mimetype": "text/x-python",
      "name": "python",
      "nbconvert_exporter": "python",
      "pygments_lexer": "ipython3",
      "version": "3.8.4"
    },
    "colab": {
      "name": "mobnet_tflow_poke.ipynb",
      "provenance": [],
      "collapsed_sections": []
    },
    "accelerator": "GPU"
  },
  "cells": [
    {
      "cell_type": "code",
      "metadata": {
        "id": "gLuI5z8MNUEu",
        "colab_type": "code",
        "colab": {
          "base_uri": "https://localhost:8080/",
          "height": 34
        },
        "outputId": "28641da3-bdd2-4cbc-c464-55eb4f744bfe"
      },
      "source": [
        "# TENSOR FLOW AND KERAS\n",
        "\n",
        "%matplotlib inline\n",
        "import matplotlib.pyplot as plt\n",
        "import numpy as np\n",
        "import tensorflow as tf\n",
        "from tensorflow import keras\n",
        "from tensorflow.keras import layers\n",
        "from keras import utils\n",
        "import sklearn\n",
        "import os\n",
        "import cv2\n",
        "import random\n",
        "\n",
        "\n",
        "from google.colab import drive\n",
        "drive.mount('/content/drive')\n"
      ],
      "execution_count": 1,
      "outputs": [
        {
          "output_type": "stream",
          "text": [
            "Drive already mounted at /content/drive; to attempt to forcibly remount, call drive.mount(\"/content/drive\", force_remount=True).\n"
          ],
          "name": "stdout"
        }
      ]
    },
    {
      "cell_type": "code",
      "metadata": {
        "id": "95bDERkRNUEz",
        "colab_type": "code",
        "colab": {
          "base_uri": "https://localhost:8080/",
          "height": 51
        },
        "outputId": "900380b4-99f4-46d1-f3d4-3accf04b34cb"
      },
      "source": [
        "# Create training and validation sets\n",
        "\n",
        "data_dir = \"/drive/My Drive/pokeproj/PokemonData/\"\n",
        "data_dir = os.getcwd() + data_dir\n",
        "\n",
        "image_size = (224, 224)\n",
        "batch_size = 64\n",
        "\n",
        "from tensorflow.keras.preprocessing.image import ImageDataGenerator\n",
        "\n",
        "ImgDG = ImageDataGenerator(rescale=1./255, rotation_range=45, \n",
        "                    width_shift_range=.15, \n",
        "                    height_shift_range=.15, \n",
        "                    horizontal_flip=True, \n",
        "                    shear_range=.25,\n",
        "                    zoom_range=.2,\n",
        "                    validation_split=0.4,)\n",
        "\n",
        "test_IDG = ImageDataGenerator(rescale=1./255,validation_split=0.4,)\n",
        "\n",
        "train_ds = ImgDG.flow_from_directory(\n",
        "    directory=data_dir,\n",
        "    target_size=image_size,\n",
        "    class_mode=\"categorical\",   \n",
        "    batch_size=batch_size,\n",
        "    shuffle=True,\n",
        "    seed=6969,\n",
        "    subset=\"training\",\n",
        "    )\n",
        "\n",
        "val_ds = test_IDG.flow_from_directory(\n",
        "    directory=data_dir,\n",
        "    target_size=image_size,\n",
        "    class_mode=\"categorical\",   \n",
        "    batch_size=batch_size,\n",
        "    shuffle=True,\n",
        "    seed=6969,\n",
        "    subset=\"validation\",\n",
        ")\n",
        "\n"
      ],
      "execution_count": 2,
      "outputs": [
        {
          "output_type": "stream",
          "text": [
            "Found 4125 images belonging to 149 classes.\n",
            "Found 2654 images belonging to 149 classes.\n"
          ],
          "name": "stdout"
        }
      ]
    },
    {
      "cell_type": "code",
      "metadata": {
        "id": "Fba4QwwkNUE3",
        "colab_type": "code",
        "colab": {
          "base_uri": "https://localhost:8080/",
          "height": 255
        },
        "outputId": "1dfef20d-297b-4ce0-d1df-a80276814df4"
      },
      "source": [
        "# Build the Model\n",
        "\n",
        "model = tf.keras.applications.MobileNet(input_shape=image_size+(3,), include_top=False, dropout=0.5)\n",
        "model.trainable = False\n",
        "\n",
        "model = tf.keras.Sequential([\n",
        "  model,\n",
        "  keras.layers.GlobalAveragePooling2D(),\n",
        "  keras.layers.Dense(149, activation='softmax')\n",
        "])\n",
        "\n",
        "model.summary()\n",
        "\n",
        "model.compile(optimizer=tf.keras.optimizers.Adam(lr=0.001),\n",
        "              loss='categorical_crossentropy',\n",
        "              metrics=['accuracy'])"
      ],
      "execution_count": 3,
      "outputs": [
        {
          "output_type": "stream",
          "text": [
            "Model: \"sequential\"\n",
            "_________________________________________________________________\n",
            "Layer (type)                 Output Shape              Param #   \n",
            "=================================================================\n",
            "mobilenet_1.00_224 (Function (None, 7, 7, 1024)        3228864   \n",
            "_________________________________________________________________\n",
            "global_average_pooling2d (Gl (None, 1024)              0         \n",
            "_________________________________________________________________\n",
            "dense (Dense)                (None, 149)               152725    \n",
            "=================================================================\n",
            "Total params: 3,381,589\n",
            "Trainable params: 152,725\n",
            "Non-trainable params: 3,228,864\n",
            "_________________________________________________________________\n"
          ],
          "name": "stdout"
        }
      ]
    },
    {
      "cell_type": "code",
      "metadata": {
        "id": "i5-qpZ6DNUE6",
        "colab_type": "code",
        "colab": {
          "base_uri": "https://localhost:8080/",
          "height": 224
        },
        "outputId": "477de8cc-1327-4ab8-b10a-f450a3550d48"
      },
      "source": [
        "# Fit the Model\n",
        "\n",
        "epochs = 50\n",
        "\n",
        "chpath = os.getcwd()+\"/drive/My Drive/pokeproj/checkpts/\"#\"./checkptpath\"\n",
        "checkpt = keras.callbacks.ModelCheckpoint(filepath=chpath,\n",
        "                                          monitor='val_accuracy',\n",
        "                                          mode='max',\n",
        "                                          save_best_only=True)\n",
        "#callbacks = [ keras.callbacks.ModelCheckpoint(\"save-at-{epoch}.h5\",)]\n",
        "hist = model.fit(train_ds,\n",
        "                  epochs=epochs,\n",
        "                  callbacks=[checkpt],\n",
        "                  validation_data=val_ds,\n",
        "                  )\n",
        "\n",
        "# steps_per_epoch = np.ceil(train_ds.n / batch_size)\n",
        "# validation_steps = np.ceil(val_ds.n / batch_size)\n",
        "\n",
        "# hist = model.fit(train_ds,\n",
        "#                   steps_per_epoch = steps_per_epoch,\n",
        "#                   epochs=epochs,\n",
        "#                   callbacks=callbacks,\n",
        "#                   validation_data=val_ds,\n",
        "#                   validation_steps=validation_steps)\n"
      ],
      "execution_count": null,
      "outputs": [
        {
          "output_type": "stream",
          "text": [
            "Epoch 1/50\n",
            "65/65 [==============================] - ETA: 0s - loss: 5.3783 - accuracy: 0.0099WARNING:tensorflow:From /usr/local/lib/python3.6/dist-packages/tensorflow/python/training/tracking/tracking.py:111: Model.state_updates (from tensorflow.python.keras.engine.training) is deprecated and will be removed in a future version.\n",
            "Instructions for updating:\n",
            "This property should not be used in TensorFlow 2.0, as updates are applied automatically.\n",
            "WARNING:tensorflow:From /usr/local/lib/python3.6/dist-packages/tensorflow/python/training/tracking/tracking.py:111: Layer.updates (from tensorflow.python.keras.engine.base_layer) is deprecated and will be removed in a future version.\n",
            "Instructions for updating:\n",
            "This property should not be used in TensorFlow 2.0, as updates are applied automatically.\n",
            "INFO:tensorflow:Assets written to: /content/drive/My Drive/pokeproj/checkpts/assets\n",
            "65/65 [==============================] - 108s 2s/step - loss: 5.3783 - accuracy: 0.0099 - val_loss: 5.1007 - val_accuracy: 0.0185\n",
            "Epoch 2/50\n",
            "62/65 [===========================>..] - ETA: 3s - loss: 4.9193 - accuracy: 0.0275"
          ],
          "name": "stdout"
        }
      ]
    },
    {
      "cell_type": "code",
      "metadata": {
        "id": "FrJyfJ9uNUE9",
        "colab_type": "code",
        "colab": {}
      },
      "source": [
        "# View training accuracy\n",
        "\n",
        "plt.style.use('fivethirtyeight')\n",
        "plt.figure(figsize=(14,14))\n",
        "plt.plot(hist.history['val_accuracy'],label='accuracy',color='green')\n",
        "plt.xlabel('Epoch')\n",
        "plt.ylabel('Accuracy')\n",
        "plt.yticks(np.arange(0, 1, step=0.04))\n",
        "plt.show()"
      ],
      "execution_count": null,
      "outputs": []
    },
    {
      "cell_type": "code",
      "metadata": {
        "id": "kPigOc8Mtr5Q",
        "colab_type": "code",
        "colab": {}
      },
      "source": [
        "# Sample Predictions\n",
        "\n",
        "class_names = tf.keras.preprocessing.image_dataset_from_directory(data_dir,).class_names\n",
        "\n",
        "\n",
        "corre_ct = 0\n",
        "fig=plt.figure(figsize=(30,30))\n",
        "sam_x,sam_y = next(val_ds) \n",
        "pred_ = model.predict(sam_x)\n",
        "\n",
        "for i in range(10):\n",
        "  pred,y = pred_[i].argmax(), sam_y[i].argmax()\n",
        "\n",
        "  print(\"Pokemon is  \", class_names[pred], \"| predicted pokemon: \", class_names[y])\n",
        "  print(\"confidence %: \", max(pred_[i])) \n",
        "\n",
        "\n",
        "  res = class_names[pred]==class_names[y]\n",
        "  if res:\n",
        "    print(\"Correct\")\n",
        "    corre_ct += 1\n",
        "  else:\n",
        "    print(\"W R O N G\")\n",
        "\n",
        "  sub = fig.add_subplot(1, 10, i+1)\n",
        "  sub.set_title(str(class_names[pred]) + \":\" + str(res))\n",
        "  plt.axis('off')\n",
        "  plt.imshow(sam_x[i])\n",
        "\n",
        "\n",
        "plt.show()\n",
        "print(\"Number Correct: \", corre_ct,\"/10\")"
      ],
      "execution_count": null,
      "outputs": []
    },
    {
      "cell_type": "code",
      "metadata": {
        "id": "-IrEzZq5t_jv",
        "colab_type": "code",
        "colab": {}
      },
      "source": [
        "# dire = os.getcwd() + \"/drive/My Drive/pokeproj/\" + \"mobn_149_poke_85.h5\"\n",
        "# model.save(dire)\n",
        "\n",
        "# epoch 41 84.49%\n",
        "# print(callbacks[0])\n",
        "# test =model.load_weights(save-at-{41}.h5)"
      ],
      "execution_count": null,
      "outputs": []
    }
  ]
}